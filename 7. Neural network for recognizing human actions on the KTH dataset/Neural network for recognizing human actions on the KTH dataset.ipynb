{
 "cells": [
  {
   "cell_type": "markdown",
   "metadata": {
    "colab_type": "text",
    "id": "y7c-vhTto-1_"
   },
   "source": [
    "# Обработка видео\n",
    "Классификация действий по видео\n"
   ]
  },
  {
   "cell_type": "markdown",
   "metadata": {
    "colab_type": "text",
    "id": "JH2ri2mQTU5s"
   },
   "source": [
    "## Переключение версии TensorFlow"
   ]
  },
  {
   "cell_type": "code",
   "execution_count": 1,
   "metadata": {
    "colab": {},
    "colab_type": "code",
    "id": "cqhfvqRrugoS"
   },
   "outputs": [],
   "source": [
    "#%tensorflow_version 2.x"
   ]
  },
  {
   "cell_type": "code",
   "execution_count": 2,
   "metadata": {
    "colab": {},
    "colab_type": "code",
    "id": "iv4yU3Gb4MlY"
   },
   "outputs": [],
   "source": [
    "import os\n",
    "import glob\n",
    "import random\n",
    "import numpy as np\n",
    "import matplotlib.pyplot as plt\n",
    "from sklearn.model_selection import train_test_split\n",
    "\n",
    "import tensorflow as tf"
   ]
  },
  {
   "cell_type": "code",
   "execution_count": 3,
   "metadata": {
    "colab": {},
    "colab_type": "code",
    "id": "rEbPbpjIDV57"
   },
   "outputs": [],
   "source": [
    "if 0:\n",
    "    !pip install scikit-video==1.1.11\n",
    "# import skvideo\n",
    "# skvideo.setFFmpegPath(r'./ffmpeg-20190512-1cc7e26-win64-static/bin')\n",
    "import skvideo.io"
   ]
  },
  {
   "cell_type": "markdown",
   "metadata": {
    "colab_type": "text",
    "id": "z9xxQH9LTsll"
   },
   "source": [
    "## Подготовка датасета для классификации"
   ]
  },
  {
   "cell_type": "code",
   "execution_count": 4,
   "metadata": {
    "colab": {
     "base_uri": "https://localhost:8080/",
     "height": 119
    },
    "colab_type": "code",
    "executionInfo": {
     "elapsed": 656,
     "status": "ok",
     "timestamp": 1591380052694,
     "user": {
      "displayName": "Румянцев Кирилл",
      "photoUrl": "",
      "userId": "08642037802757655753"
     },
     "user_tz": -180
    },
    "id": "xXx10w4T7JcT",
    "outputId": "ef68c6c4-1348-4cda-8291-a70b2c4e3883"
   },
   "outputs": [
    {
     "name": "stdout",
     "output_type": "stream",
     "text": [
      "Processing class: walking\n",
      "Processing class: jogging\n",
      "Processing class: running\n",
      "Processing class: boxing\n",
      "Processing class: handwaving\n",
      "Processing class: handclapping\n"
     ]
    }
   ],
   "source": [
    "classes = [\n",
    "    'walking',\n",
    "    'jogging',\n",
    "    'running',\n",
    "    'boxing',\n",
    "    'handwaving',\n",
    "    'handclapping',\n",
    "]\n",
    "\n",
    "data_list = []\n",
    "data_root = 'G:/data/KTH/'\n",
    "for cls in classes:\n",
    "    print('Processing class: {}'.format(cls))\n",
    "    for fpath in glob.glob(os.path.join(data_root, cls, '*.avi')):\n",
    "        cls_idx = classes.index(cls)\n",
    "        data_list.append((fpath, cls_idx))"
   ]
  },
  {
   "cell_type": "code",
   "execution_count": 5,
   "metadata": {
    "colab": {},
    "colab_type": "code",
    "id": "WLl1FYXmLg9u"
   },
   "outputs": [],
   "source": [
    "SUBSET_LEN = 100 # Количество пар для обучения\n",
    "MAX_FRAMES = 300\n",
    "BATCH_SIZE = 3\n",
    "NUM_EPOCHS = 10\n",
    "LEARNING_RATE = 0.0001"
   ]
  },
  {
   "cell_type": "code",
   "execution_count": 6,
   "metadata": {
    "colab": {},
    "colab_type": "code",
    "id": "IYO8E2UILVtv"
   },
   "outputs": [],
   "source": [
    "class CreatingDataset():\n",
    "\n",
    "  \"\"\"Клас создания датасета\"\"\"\n",
    "\n",
    "  def __init__(self,data_list=data_list, MAX_FRAMES=MAX_FRAMES, SUBSET_LEN=SUBSET_LEN, BATCH_SIZE=BATCH_SIZE, NUM_EPOCHS=NUM_EPOCHS):        \n",
    "      self.data_list = data_list \n",
    "      self.MAX_FRAMES = MAX_FRAMES\n",
    "      self.SUBSET_LEN = SUBSET_LEN\n",
    "      self.BATCH_SIZE = BATCH_SIZE\n",
    "      self.NUM_EPOCHS = NUM_EPOCHS\n",
    "\n",
    "  def split_dataset(self, data_list, SUBSET_LEN):\n",
    "    \"\"\"Создание пар для обучения и разделение датасета на тестовый и тренировачный\"\"\"\n",
    "    random.shuffle(data_list)\n",
    "    data_array = np.array(data_list)\n",
    "    train_x, valid_x, train_y, valid_y = train_test_split(data_array[:, 0],\n",
    "                                                          data_array[:, 1],\n",
    "                                                          train_size=SUBSET_LEN, random_state=21,\n",
    "                                                          stratify=data_array[:, 1])\n",
    "\n",
    "    assert SUBSET_LEN == len(train_x)\n",
    "\n",
    "    dataset = tf.data.Dataset.from_tensor_slices((train_x, train_y))\n",
    "    test_dataset = tf.data.Dataset.from_tensor_slices((valid_x, valid_y))\n",
    "\n",
    "    return dataset, test_dataset\n",
    "\n",
    "  def dataset_processing(self, dataset, SUBSET_LEN, BATCH_SIZE):\n",
    "    \"\"\"обработка датасета\"\"\"\n",
    "\n",
    "\n",
    "\n",
    "    def fpath_to_video(fpath):\n",
    "        fpath = fpath.numpy().decode('utf-8')\n",
    "        videodata = skvideo.io.vread(fpath)\n",
    "        videodata = videodata.astype(np.float32) / 255.\n",
    "\n",
    "        tmp = videodata.copy()\n",
    "        # если количество кадров в видео меньше максимального\n",
    "        if videodata.shape[0] < MAX_FRAMES:\n",
    "          # то определяем сколко раз надо повторить операцию vstack\n",
    "          num_iter = round(MAX_FRAMES / videodata.shape[0]) + 1\n",
    "          # создаем временный файл, в котором будем хранить повторы\n",
    "          tmp = videodata.copy()\n",
    "          # стакаем необходимое количество раз\n",
    "          for iterations in range(num_iter):\n",
    "            tmp = np.vstack((tmp, videodata))\n",
    "            if tmp.shape[0] > MAX_FRAMES:\n",
    "              break\n",
    "          # так как мы повторяли ролик сам в себя несколько раз, то его длина может быть больше чем необходимая\n",
    "          # поэтому возьмем только необходимое нам количество кадров\n",
    "        tmp = tmp[:MAX_FRAMES, ...]\n",
    "        \n",
    "        return tmp\n",
    "\n",
    "    dataset = dataset.map(lambda fpath, label: (tf.py_function(fpath_to_video, [fpath], Tout=tf.float32),\n",
    "                                                tf.numpy_function(np.int8, [label], tf.int8)))\n",
    "    dataset = dataset.shuffle(buffer_size=SUBSET_LEN)\n",
    "    dataset = dataset.batch(BATCH_SIZE)\n",
    "\n",
    "    return dataset\n",
    "\n",
    "  def bilder_dataset(self,data_list=data_list, MAX_FRAMES=MAX_FRAMES, SUBSET_LEN=SUBSET_LEN, BATCH_SIZE=BATCH_SIZE, NUM_EPOCHS=NUM_EPOCHS):\n",
    "    \"\"\"Сборка доатасета\"\"\"\n",
    "    dataset, test_dataset = self.split_dataset(data_list, SUBSET_LEN)\n",
    "    dataset = self.dataset_processing(dataset, SUBSET_LEN, BATCH_SIZE)\n",
    "    test_dataset = self.dataset_processing(test_dataset, SUBSET_LEN, BATCH_SIZE)\n",
    "\n",
    "    return dataset, test_dataset\n",
    "\n"
   ]
  },
  {
   "cell_type": "code",
   "execution_count": 7,
   "metadata": {
    "colab": {},
    "colab_type": "code",
    "id": "7seL-iH1ggzq"
   },
   "outputs": [],
   "source": [
    "CD = CreatingDataset()\n",
    "dataset, test_dataset = CD.bilder_dataset(data_list, MAX_FRAMES, SUBSET_LEN, BATCH_SIZE, NUM_EPOCHS)"
   ]
  },
  {
   "cell_type": "markdown",
   "metadata": {
    "colab_type": "text",
    "id": "WMuN7QibUPJa"
   },
   "source": [
    "## Создание модели CNN"
   ]
  },
  {
   "cell_type": "code",
   "execution_count": 8,
   "metadata": {
    "colab": {},
    "colab_type": "code",
    "id": "-IbbBxRa3ue4"
   },
   "outputs": [],
   "source": [
    "model = tf.keras.Sequential([\n",
    "    tf.keras.layers.Conv3D(32, (5, 5, 5), (1, 2, 2), padding='same', activation='relu'),\n",
    "    tf.keras.layers.MaxPool3D((1, 2, 2), padding='same'),\n",
    "    tf.keras.layers.Conv3D(64, (5, 5, 5), (1, 2, 2), padding='same', activation='relu'),\n",
    "    tf.keras.layers.MaxPool3D((1, 2, 2), padding='same'),\n",
    "    tf.keras.layers.Conv3D(64, (3, 3, 3), (1, 2, 2), padding='same', activation='relu'),\n",
    "    tf.keras.layers.MaxPool3D((1, 2, 2), padding='same'),\n",
    "    tf.keras.layers.Conv3D(64, (3, 3, 3), (1, 1, 1), padding='same', activation=None),\n",
    "    tf.keras.layers.GlobalAveragePooling3D(),\n",
    "    tf.keras.layers.Dense(64, activation='relu'),\n",
    "    tf.keras.layers.Dense(6, activation=None),\n",
    "])"
   ]
  },
  {
   "cell_type": "markdown",
   "metadata": {
    "colab_type": "text",
    "id": "KRR7KDG_UTqW"
   },
   "source": [
    "## Подготовка к обучению"
   ]
  },
  {
   "cell_type": "code",
   "execution_count": 9,
   "metadata": {
    "colab": {},
    "colab_type": "code",
    "id": "R_IRN1KLu8YC"
   },
   "outputs": [],
   "source": [
    "model.compile(\n",
    "    loss=tf.keras.losses.SparseCategoricalCrossentropy(from_logits=True), \n",
    "    optimizer=tf.keras.optimizers.Adam(LEARNING_RATE))\n",
    "\n",
    "writer = tf.summary.create_file_writer('logs/exp1')"
   ]
  },
  {
   "cell_type": "markdown",
   "metadata": {
    "colab_type": "text",
    "id": "vdXWGrAMUYiK"
   },
   "source": [
    "## Цикл обучения модели"
   ]
  },
  {
   "cell_type": "code",
   "execution_count": 10,
   "metadata": {
    "colab": {
     "base_uri": "https://localhost:8080/",
     "height": 1000
    },
    "colab_type": "code",
    "executionInfo": {
     "elapsed": 44872,
     "status": "ok",
     "timestamp": 1591380126273,
     "user": {
      "displayName": "Румянцев Кирилл",
      "photoUrl": "",
      "userId": "08642037802757655753"
     },
     "user_tz": -180
    },
    "id": "D9oDlO9TYNBe",
    "outputId": "b845a635-1721-4496-b385-c13aa4c25613"
   },
   "outputs": [
    {
     "name": "stdout",
     "output_type": "stream",
     "text": [
      "[0/10][0/100] Loss: 1.7936149835586548\n",
      "[0/10][10/100] Loss: 1.7732490301132202\n",
      "[0/10][20/100] Loss: 1.748522400856018\n",
      "[0/10][30/100] Loss: 1.809068202972412\n",
      "[1/10][0/100] Loss: 1.790202021598816\n",
      "[1/10][10/100] Loss: 1.7841545343399048\n",
      "[1/10][20/100] Loss: 1.785788893699646\n",
      "[1/10][30/100] Loss: 1.7989693880081177\n",
      "[2/10][0/100] Loss: 1.7946783304214478\n",
      "[2/10][10/100] Loss: 1.7858113050460815\n",
      "[2/10][20/100] Loss: 1.7936553955078125\n",
      "[2/10][30/100] Loss: 1.7856248617172241\n",
      "[3/10][0/100] Loss: 1.7857780456542969\n",
      "[3/10][10/100] Loss: 1.713941216468811\n",
      "[3/10][20/100] Loss: 1.882381796836853\n",
      "[3/10][30/100] Loss: 1.8041529655456543\n",
      "[4/10][0/100] Loss: 1.786392092704773\n",
      "[4/10][10/100] Loss: 1.7860034704208374\n",
      "[4/10][20/100] Loss: 1.7840633392333984\n",
      "[4/10][30/100] Loss: 1.9123591184616089\n",
      "[5/10][0/100] Loss: 1.7901116609573364\n",
      "[5/10][10/100] Loss: 1.7567726373672485\n",
      "[5/10][20/100] Loss: 1.782395362854004\n",
      "[5/10][30/100] Loss: 1.7742735147476196\n",
      "[6/10][0/100] Loss: 1.7888683080673218\n",
      "[6/10][10/100] Loss: 1.611554503440857\n",
      "[6/10][20/100] Loss: 1.7201642990112305\n",
      "[6/10][30/100] Loss: 1.743994116783142\n",
      "[7/10][0/100] Loss: 1.7912006378173828\n",
      "[7/10][10/100] Loss: 1.6990083456039429\n",
      "[7/10][20/100] Loss: 1.6036105155944824\n",
      "[7/10][30/100] Loss: 1.6351979970932007\n",
      "[8/10][0/100] Loss: 1.3966957330703735\n",
      "[8/10][10/100] Loss: 1.5276211500167847\n",
      "[8/10][20/100] Loss: 1.684112548828125\n",
      "[8/10][30/100] Loss: 1.6916890144348145\n",
      "[9/10][0/100] Loss: 1.5181182622909546\n",
      "[9/10][10/100] Loss: 1.6293267011642456\n",
      "[9/10][20/100] Loss: 1.6700533628463745\n",
      "[9/10][30/100] Loss: 1.3883317708969116\n",
      "Wall time: 7min 12s\n"
     ]
    }
   ],
   "source": [
    "%%time\n",
    "global_step = 0\n",
    "losses = []\n",
    "for ep in range(NUM_EPOCHS):\n",
    "    for i, (videodata, labels) in enumerate(dataset):\n",
    "        loss_value = model.train_on_batch(videodata, labels)\n",
    "\n",
    "        if i % 10 == 0:\n",
    "            print(f'[{ep}/{NUM_EPOCHS}][{i}/{SUBSET_LEN}] Loss: {loss_value}')\n",
    "            losses.append([loss_value, global_step])\n",
    "               \n",
    "        global_step += 1"
   ]
  },
  {
   "cell_type": "markdown",
   "metadata": {
    "colab_type": "text",
    "id": "fsq2P31vUck6"
   },
   "source": [
    "## Loss"
   ]
  },
  {
   "cell_type": "code",
   "execution_count": 13,
   "metadata": {
    "colab": {
     "base_uri": "https://localhost:8080/",
     "height": 838
    },
    "colab_type": "code",
    "executionInfo": {
     "elapsed": 47945,
     "status": "ok",
     "timestamp": 1591379868800,
     "user": {
      "displayName": "Румянцев Кирилл",
      "photoUrl": "",
      "userId": "08642037802757655753"
     },
     "user_tz": -180
    },
    "id": "s0314NhOrkik",
    "outputId": "d1ffc4c6-c1c8-4768-8c1f-5f1cfd25ef05"
   },
   "outputs": [
    {
     "data": {
      "image/png": "[encoded data removed]",
      "text/plain": [
       "<Figure size 432x288 with 1 Axes>"
      ]
     },
     "metadata": {
      "needs_background": "light"
     },
     "output_type": "display_data"
    }
   ],
   "source": [
    "losses_array = np.array(losses)\n",
    "plt.plot(losses_array[:, 1], losses_array[:, 0])\n",
    "plt.title('SparseCategoricalCrossentropy(from_logits)')\n",
    "plt.grid(True)\n",
    "plt.show()"
   ]
  },
  {
   "cell_type": "code",
   "execution_count": null,
   "metadata": {
    "colab": {},
    "colab_type": "code",
    "id": "NbveCKhEtKLK"
   },
   "outputs": [],
   "source": []
  }
 ],
 "metadata": {
  "accelerator": "GPU",
  "colab": {
   "collapsed_sections": [],
   "name": "Neural network for recognizing human actions on the KTH dataset.ipynb",
   "provenance": [],
   "toc_visible": true
  },
  "kernelspec": {
   "display_name": "Python 3",
   "language": "python",
   "name": "python3"
  },
  "language_info": {
   "codemirror_mode": {
    "name": "ipython",
    "version": 3
   },
   "file_extension": ".py",
   "mimetype": "text/x-python",
   "name": "python",
   "nbconvert_exporter": "python",
   "pygments_lexer": "ipython3",
   "version": "3.7.7"
  }
 },
 "nbformat": 4,
 "nbformat_minor": 1
}
