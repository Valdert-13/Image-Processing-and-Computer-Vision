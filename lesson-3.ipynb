{
 "cells": [
  {
   "cell_type": "code",
   "execution_count": 1,
   "metadata": {},
   "outputs": [
    {
     "name": "stderr",
     "output_type": "stream",
     "text": [
      "Using TensorFlow backend.\n"
     ]
    }
   ],
   "source": [
    "%matplotlib inline\n",
    "import matplotlib.pyplot as plt\n",
    "import numpy as np\n",
    "\n",
    "import tensorflow as tf\n",
    "import tensorflow_datasets as tfds\n",
    "import keras"
   ]
  },
  {
   "cell_type": "code",
   "execution_count": 2,
   "metadata": {},
   "outputs": [],
   "source": [
    "tfds.disable_progress_bar()\n",
    "(train_ds, test_ds), ds_info = tfds.load(\n",
    "    'food101', \n",
    "    as_supervised=True,\n",
    "    with_info=True,\n",
    "    split=['train[:90%]', 'train[90%:]'],\n",
    ")"
   ]
  },
  {
   "cell_type": "markdown",
   "metadata": {},
   "source": [
    "some_samples = [x[0] for x in iter(train_ds.take(32))]\n",
    "\n",
    "fig = plt.figure(figsize=(16, 8))\n",
    "for j in range(len(some_samples)):\n",
    "    ax = fig.add_subplot(4, 8, j+1)\n",
    "    ax.imshow(some_samples[j])\n",
    "    plt.xticks([]), plt.yticks([])\n",
    "plt.show()"
   ]
  },
  {
   "cell_type": "code",
   "execution_count": 3,
   "metadata": {},
   "outputs": [
    {
     "name": "stdout",
     "output_type": "stream",
     "text": [
      "\n",
      "\n"
     ]
    }
   ],
   "source": [
    "INP_SIZE = 160\n",
    "NUM_EPOCHS = 10\n",
    "BATCH_SIZE = 32\n",
    "num_classes = 101\n",
    "\n",
    "\n",
    "def prepare(img, label):\n",
    "    img = tf.cast(img, tf.float32)/256.\n",
    "    print ()\n",
    "    return tf.image.resize(img, (INP_SIZE, INP_SIZE)), tf.one_hot(label, num_classes, dtype=tf.float32)\n",
    "\n",
    "train_ds = train_ds.shuffle(buffer_size=1000)\n",
    "train_ds = train_ds.map(prepare)\n",
    "train_ds = train_ds.batch(BATCH_SIZE, drop_remainder=True)\n",
    "\n",
    "test_ds = test_ds.shuffle(buffer_size=1000)\n",
    "test_ds = test_ds.map(prepare)\n",
    "test_ds = test_ds.batch(BATCH_SIZE, drop_remainder=True)"
   ]
  },
  {
   "cell_type": "code",
   "execution_count": 4,
   "metadata": {},
   "outputs": [],
   "source": [
    "if 0: # Обучение модели с нуля\n",
    "\n",
    "    EXP_NAME = 'scratch'\n",
    "    base_model = tf.keras.applications.MobileNetV2(\n",
    "        input_shape=(INP_SIZE, INP_SIZE, 3),\n",
    "        include_top=False,\n",
    "        weights='imagenet',\n",
    "    )\n",
    "    base_model.trainable = True\n",
    "\n",
    "else: # Transfer Learning\n",
    "\n",
    "    EXP_NAME = 'transfer'\n",
    "    base_model = tf.keras.applications.MobileNetV2(\n",
    "        input_shape=(INP_SIZE, INP_SIZE, 3),\n",
    "        include_top=False,\n",
    "        weights='imagenet',\n",
    "    )\n",
    "    base_model.trainable = True # Fine-tuning весов предобученной модели\n",
    "    # base_model.trainable = False # Заморозка весов предобученной модели\n",
    "\n",
    "model = tf.keras.Sequential([\n",
    "    base_model,\n",
    "    tf.keras.layers.GlobalAveragePooling2D(),\n",
    "    tf.keras.layers.Dropout(0.4),\n",
    "    tf.keras.layers.Dense(num_classes, activation='softmax'),\n",
    "])"
   ]
  },
  {
   "cell_type": "code",
   "execution_count": 5,
   "metadata": {},
   "outputs": [],
   "source": [
    "LEARNING_RATE = 0.0001\n",
    "optimizer = tf.keras.optimizers.RMSprop(lr=LEARNING_RATE)\n",
    "\n",
    "model.compile(optimizer=optimizer,\n",
    "              loss='categorical_crossentropy',\n",
    "              metrics=['accuracy'])\n",
    "\n",
    "tensorboard_callback = tf.keras.callbacks.TensorBoard(\n",
    "    log_dir='logs/'+EXP_NAME, \n",
    "    write_graph=False, update_freq=100, profile_batch=0)"
   ]
  },
  {
   "cell_type": "code",
   "execution_count": 6,
   "metadata": {},
   "outputs": [
    {
     "name": "stdout",
     "output_type": "stream",
     "text": [
      "Epoch 1/10\n",
      "2130/2130 [==============================] - 228s 107ms/step - loss: 2.4543 - accuracy: 0.4108 - val_loss: 1.8981 - val_accuracy: 0.5273\n",
      "Epoch 2/10\n",
      "2130/2130 [==============================] - 229s 108ms/step - loss: 1.4499 - accuracy: 0.6208 - val_loss: 1.5114 - val_accuracy: 0.6245\n",
      "Epoch 3/10\n",
      "2130/2130 [==============================] - 229s 107ms/step - loss: 1.1120 - accuracy: 0.7020 - val_loss: 1.7111 - val_accuracy: 0.6214\n",
      "Epoch 4/10\n",
      "2130/2130 [==============================] - 228s 107ms/step - loss: 0.8715 - accuracy: 0.7576 - val_loss: 1.6448 - val_accuracy: 0.6360\n",
      "Epoch 5/10\n",
      "2130/2130 [==============================] - 418s 196ms/step - loss: 0.6850 - accuracy: 0.8047 - val_loss: 2.0219 - val_accuracy: 0.6250\n",
      "Epoch 6/10\n",
      "2130/2130 [==============================] - 514s 241ms/step - loss: 0.5457 - accuracy: 0.8386 - val_loss: 1.9210 - val_accuracy: 0.6198\n",
      "Epoch 7/10\n",
      "2130/2130 [==============================] - 525s 246ms/step - loss: 0.4347 - accuracy: 0.8680 - val_loss: 2.3049 - val_accuracy: 0.6128\n",
      "Epoch 8/10\n",
      "2130/2130 [==============================] - 506s 238ms/step - loss: 0.3675 - accuracy: 0.8864 - val_loss: 2.1832 - val_accuracy: 0.6135\n",
      "Epoch 9/10\n",
      "2130/2130 [==============================] - 390s 183ms/step - loss: 0.3115 - accuracy: 0.9014 - val_loss: 2.4987 - val_accuracy: 0.6099\n",
      "Epoch 10/10\n",
      "2130/2130 [==============================] - 226s 106ms/step - loss: 0.2747 - accuracy: 0.9132 - val_loss: 2.7482 - val_accuracy: 0.6213\n",
      "Wall time: 58min 25s\n"
     ]
    }
   ],
   "source": [
    "%%time\n",
    "\n",
    "history = model.fit(\n",
    "    train_ds,\n",
    "    epochs=NUM_EPOCHS,\n",
    "    validation_data=test_ds,\n",
    "    callbacks=[tensorboard_callback])"
   ]
  },
  {
   "cell_type": "code",
   "execution_count": 7,
   "metadata": {},
   "outputs": [
    {
     "name": "stdout",
     "output_type": "stream",
     "text": [
      "236/236 [==============================] - 7s 30ms/step - loss: 2.7477 - accuracy: 0.6213\n",
      "Wall time: 7.58 s\n"
     ]
    },
    {
     "data": {
      "text/plain": [
       "[2.7476658821105957, 0.6212923526763916]"
      ]
     },
     "execution_count": 7,
     "metadata": {},
     "output_type": "execute_result"
    }
   ],
   "source": [
    "%%time\n",
    "\n",
    "model.evaluate(test_ds)"
   ]
  },
  {
   "cell_type": "code",
   "execution_count": 8,
   "metadata": {},
   "outputs": [
    {
     "data": {
      "text/plain": [
       "ERROR: Failed to launch TensorBoard (exited with 1).\n",
       "Contents of stderr:\n",
       "2020-05-27 22:17:59.419715: I tensorflow/stream_executor/platform/default/dso_loader.cc:44] Successfully opened dynamic library cudart64_101.dll\n",
       "Traceback (most recent call last):\n",
       "  File \"d:\\anaconda\\anaconda3\\envs\\cnn\\lib\\runpy.py\", line 193, in _run_module_as_main\n",
       "    \"__main__\", mod_spec)\n",
       "  File \"d:\\anaconda\\anaconda3\\envs\\cnn\\lib\\runpy.py\", line 85, in _run_code\n",
       "    exec(code, run_globals)\n",
       "  File \"D:\\anaconda\\anaconda3\\envs\\CNN\\Scripts\\tensorboard.exe\\__main__.py\", line 7, in <module>\n",
       "  File \"d:\\anaconda\\anaconda3\\envs\\cnn\\lib\\site-packages\\tensorboard\\main.py\", line 75, in run_main\n",
       "    app.run(tensorboard.main, flags_parser=tensorboard.configure)\n",
       "  File \"d:\\anaconda\\anaconda3\\envs\\cnn\\lib\\site-packages\\absl\\app.py\", line 299, in run\n",
       "    _run_main(main, args)\n",
       "  File \"d:\\anaconda\\anaconda3\\envs\\cnn\\lib\\site-packages\\absl\\app.py\", line 250, in _run_main\n",
       "    sys.exit(main(argv))\n",
       "  File \"d:\\anaconda\\anaconda3\\envs\\cnn\\lib\\site-packages\\tensorboard\\program.py\", line 290, in main\n",
       "    return runner(self.flags) or 0\n",
       "  File \"d:\\anaconda\\anaconda3\\envs\\cnn\\lib\\site-packages\\tensorboard\\program.py\", line 306, in _run_serve_subcommand\n",
       "    server = self._make_server()\n",
       "  File \"d:\\anaconda\\anaconda3\\envs\\cnn\\lib\\site-packages\\tensorboard\\program.py\", line 416, in _make_server\n",
       "    ingester.deprecated_multiplexer,\n",
       "  File \"d:\\anaconda\\anaconda3\\envs\\cnn\\lib\\site-packages\\tensorboard\\backend\\application.py\", line 129, in TensorBoardWSGIApp\n",
       "    tbplugins, flags.path_prefix, data_provider, experimental_plugins\n",
       "  File \"d:\\anaconda\\anaconda3\\envs\\cnn\\lib\\site-packages\\tensorboard\\backend\\application.py\", line 226, in __init__\n",
       "    \"Duplicate plugins for name %s\" % plugin.plugin_name\n",
       "ValueError: Duplicate plugins for name projector"
      ]
     },
     "metadata": {},
     "output_type": "display_data"
    }
   ],
   "source": [
    "%load_ext tensorboard\n",
    "%tensorboard --logdir logs"
   ]
  },
  {
   "cell_type": "code",
   "execution_count": null,
   "metadata": {},
   "outputs": [],
   "source": []
  }
 ],
 "metadata": {
  "kernelspec": {
   "display_name": "Python 3",
   "language": "python",
   "name": "python3"
  },
  "language_info": {
   "codemirror_mode": {
    "name": "ipython",
    "version": 3
   },
   "file_extension": ".py",
   "mimetype": "text/x-python",
   "name": "python",
   "nbconvert_exporter": "python",
   "pygments_lexer": "ipython3",
   "version": "3.7.7"
  }
 },
 "nbformat": 4,
 "nbformat_minor": 4
}
