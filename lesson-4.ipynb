{
 "cells": [
  {
   "cell_type": "code",
   "execution_count": 41,
   "metadata": {},
   "outputs": [],
   "source": [
    "import os\n",
    "import skimage.io as io\n",
    "import numpy as np\n",
    "import matplotlib.pyplot as plt\n",
    "import sys\n",
    "\n",
    "import tensorflow as tf\n",
    "from tensorflow.keras.callbacks import ReduceLROnPlateau, ModelCheckpoint, EarlyStopping"
   ]
  },
  {
   "cell_type": "code",
   "execution_count": 42,
   "metadata": {},
   "outputs": [],
   "source": [
    "import tensorflow_datasets as tfds"
   ]
  },
  {
   "cell_type": "code",
   "execution_count": 43,
   "metadata": {},
   "outputs": [],
   "source": [
    "BATCH_SIZE = 32\n",
    "IMG_INP_SIZE = 192\n",
    "EPOCHS = 10"
   ]
  },
  {
   "cell_type": "code",
   "execution_count": null,
   "metadata": {},
   "outputs": [],
   "source": [
    "tfds.disable_progress_bar()\n",
    "(train_ds, test_ds), ds_info = tfds.load(\n",
    "    'coco/2017',\n",
    "    data_dir='G:\\data',\n",
    "    as_supervised=True,\n",
    "    with_info=True,    \n",
    "#     split=['train[:90%]', 'train[90%:]'],\n",
    ")"
   ]
  },
  {
   "cell_type": "code",
   "execution_count": 44,
   "metadata": {},
   "outputs": [],
   "source": [
    "from pycocotools.coco import COCO"
   ]
  },
  {
   "cell_type": "code",
   "execution_count": 45,
   "metadata": {},
   "outputs": [],
   "source": [
    "COCO_ROOT = 'G:\\data\\coco'"
   ]
  },
  {
   "cell_type": "markdown",
   "metadata": {},
   "source": [
    "### Universal Dataset Class for Segmentation"
   ]
  },
  {
   "cell_type": "code",
   "execution_count": 46,
   "metadata": {},
   "outputs": [],
   "source": [
    "class Dataset():\n",
    "\n",
    "    def crop_images(self, img, inp_size, random_crop=False):\n",
    "        shape = tf.shape(img)\n",
    "        pad = (\n",
    "            [0, tf.maximum(inp_size - shape[0], 0)],\n",
    "            [0, tf.maximum(inp_size - shape[1], 0)],\n",
    "            [0, 0],\n",
    "        )\n",
    "        img = tf.pad(img, pad)\n",
    "\n",
    "        if random_crop:\n",
    "            img = tf.image.random_crop(img, (inp_size, inp_size, shape[2]))\n",
    "        else: # central crop\n",
    "            shape = tf.shape(img)\n",
    "            ho = (shape[0] - inp_size) // 2\n",
    "            wo = (shape[1] - inp_size) // 2\n",
    "            img = img[ho:ho+inp_size, wo:wo+inp_size, :]\n",
    "\n",
    "        return img\n",
    "\n",
    "    def train_dataset(self, batch_size, epochs, inp_size):\n",
    "\n",
    "        def item_to_images(item):\n",
    "            random_crop = True\n",
    "            img_combined = tf.py_function(self.read_images, [item], tf.uint8)\n",
    "            img_combined = self.crop_images(img_combined, inp_size, random_crop)\n",
    "\n",
    "            img = tf.cast(img_combined[...,:3], tf.float32) / np.float32(255.)\n",
    "            mask_class = tf.cast(img_combined[...,3:4], tf.float32)\n",
    "            return img, mask_class\n",
    "\n",
    "        dataset = tf.data.Dataset.from_tensor_slices(self.img_list)\n",
    "        dataset = dataset.shuffle(buffer_size=len(self.img_list))\n",
    "        dataset = dataset.map(item_to_images)\n",
    "        dataset = dataset.repeat(epochs)\n",
    "        dataset = dataset.batch(batch_size, drop_remainder=True)\n",
    "\n",
    "        return dataset\n",
    "\n",
    "    def val_dataset(self, batch_size, inp_size):\n",
    "\n",
    "        def item_to_images(item):\n",
    "            random_crop = False\n",
    "            img_combined = tf.py_function(self.read_images, [item], tf.uint8)\n",
    "            img_combined = self.crop_images(img_combined, inp_size, random_crop)\n",
    "\n",
    "            img = tf.cast(img_combined[...,:3], tf.float32) / np.float32(255.)\n",
    "            mask_class = tf.cast(img_combined[...,3:4], tf.float32)\n",
    "            return img, mask_class\n",
    "\n",
    "        dataset = tf.data.Dataset.from_tensor_slices(self.img_list)\n",
    "        dataset = dataset.map(item_to_images)\n",
    "        dataset = dataset.batch(batch_size, drop_remainder=True)\n",
    "\n",
    "        return dataset"
   ]
  },
  {
   "cell_type": "markdown",
   "metadata": {},
   "source": [
    "### Класс для сегментационного датасета COCO"
   ]
  },
  {
   "cell_type": "code",
   "execution_count": 47,
   "metadata": {},
   "outputs": [],
   "source": [
    "class COCO_Dataset(Dataset):\n",
    "\n",
    "    def __init__(self, sublist):\n",
    "        ann_file_fpath = os.path.join(COCO_ROOT, 'annotations', 'instances_'+sublist+'2017.json')\n",
    "        self.coco = COCO(ann_file_fpath)\n",
    "        self.cat_ids = self.coco.getCatIds(catNms=['person'])\n",
    "        self.img_list = self.coco.getImgIds(catIds=self.cat_ids)\n",
    "\n",
    "    def read_images(self, img_id):\n",
    "        img_id = int(img_id.numpy())\n",
    "        img_data = self.coco.loadImgs(img_id)[0]\n",
    "        img_fname = '/'.join(img_data['coco_url'].split('/')[-2:])\n",
    "\n",
    "        img = io.imread(os.path.join(COCO_ROOT, img_fname))\n",
    "        if len(img.shape) == 2:\n",
    "            img = np.tile(img[..., None], (1, 1, 3))\n",
    "\n",
    "        ann_ids = self.coco.getAnnIds(imgIds=img_data['id'], catIds=self.cat_ids, iscrowd=None)\n",
    "        anns = self.coco.loadAnns(ann_ids)\n",
    "        mask_class = np.zeros((img.shape[0], img.shape[1]), dtype=np.uint8)\n",
    "        for i in range(len(anns)):\n",
    "            mask_class += self.coco.annToMask(anns[i])\n",
    "        mask_class = (mask_class > 0).astype(np.uint8)\n",
    "\n",
    "        img_combined = np.concatenate([img, mask_class[..., None]], axis=2)\n",
    "\n",
    "        return img_combined"
   ]
  },
  {
   "cell_type": "code",
   "execution_count": 48,
   "metadata": {},
   "outputs": [
    {
     "name": "stdout",
     "output_type": "stream",
     "text": [
      "loading annotations into memory...\n",
      "Done (t=16.28s)\n",
      "creating index...\n",
      "index created!\n",
      "loading annotations into memory...\n",
      "Done (t=0.57s)\n",
      "creating index...\n",
      "index created!\n"
     ]
    }
   ],
   "source": [
    "COCO_dataset_train = COCO_Dataset('train')\n",
    "COCO_dataset_val = COCO_Dataset('val')"
   ]
  },
  {
   "cell_type": "code",
   "execution_count": 49,
   "metadata": {},
   "outputs": [],
   "source": [
    "train_ds = COCO_dataset_train.train_dataset(batch_size=BATCH_SIZE, epochs=EPOCHS, inp_size=IMG_INP_SIZE)\n",
    "val_ds = COCO_dataset_val.val_dataset(batch_size=BATCH_SIZE, inp_size=IMG_INP_SIZE)"
   ]
  },
  {
   "cell_type": "markdown",
   "metadata": {},
   "source": [
    "### Построение модели"
   ]
  },
  {
   "cell_type": "code",
   "execution_count": 50,
   "metadata": {},
   "outputs": [],
   "source": [
    "def build_model():\n",
    "    x = tf.keras.layers.Input((IMG_INP_SIZE, IMG_INP_SIZE, 3))\n",
    "    \n",
    "    out = tf.keras.layers.Conv2D(64, (3,3), padding='same', activation='relu')(x)\n",
    "    out1 = tf.keras.layers.Conv2D(64, (3,3), padding='same', activation='relu')(out)\n",
    "    out = tf.keras.layers.MaxPool2D((2,2))(out1)\n",
    "    \n",
    "    out = tf.keras.layers.Conv2D(64, (3,3), padding='same', activation='relu')(out)\n",
    "    out2 = tf.keras.layers.Conv2D(128, (3,3), padding='same', activation='relu')(out)\n",
    "    out = tf.keras.layers.MaxPool2D((2,2))(out2)\n",
    "    \n",
    "    out = tf.keras.layers.Conv2D(256, (3,3), padding='same', activation='relu')(out)\n",
    "    out3 = tf.keras.layers.Conv2D(256, (3,3), padding='same', activation='relu')(out)\n",
    "    out = tf.keras.layers.MaxPool2D((2,2))(out3)\n",
    "    \n",
    "    out = tf.keras.layers.Conv2D(512, (3,3), padding='same', activation='relu')(out)\n",
    "    out4 = tf.keras.layers.Conv2D(512, (3,3), padding='same', activation='relu')(out)\n",
    "    out = tf.keras.layers.MaxPool2D((2,2))(out4)\n",
    "    \n",
    "    out = tf.keras.layers.Conv2D(1024, (3,3), padding='same', activation='relu')(out)\n",
    "    out = tf.keras.layers.Conv2D(1024, (3,3), padding='same', activation='relu')(out)\n",
    "    \n",
    "    out = tf.keras.layers.Conv2DTranspose(512, (3,3), strides=(2,2), padding='same', activation='relu')(out)\n",
    "    out = tf.concat([out4, out], axis=3)\n",
    "    \n",
    "    out = tf.keras.layers.Conv2D(512, (3,3), padding='same', activation='relu')(out)\n",
    "    out = tf.keras.layers.Conv2D(512, (3,3), padding='same', activation='relu')(out)\n",
    "    \n",
    "    out = tf.keras.layers.Conv2DTranspose(256, (3,3), strides=(2,2), padding='same', activation='relu')(out)\n",
    "    out = tf.concat([out3, out], axis=3)\n",
    "    \n",
    "    out = tf.keras.layers.Conv2D(256, (3,3), padding='same', activation='relu')(out)\n",
    "    out = tf.keras.layers.Conv2D(256, (3,3), padding='same', activation='relu')(out)\n",
    "\n",
    "    out = tf.keras.layers.Conv2DTranspose(128, (3,3), strides=(2,2), padding='same', activation='relu')(out)\n",
    "    out = tf.concat([out2, out], axis=3)\n",
    "    \n",
    "    out = tf.keras.layers.Conv2D(128, (3,3), padding='same', activation='relu')(out)\n",
    "    out = tf.keras.layers.Conv2D(128, (3,3), padding='same', activation='relu')(out)\n",
    "    \n",
    "    out = tf.keras.layers.Conv2DTranspose(64, (3,3), strides=(2,2), padding='same', activation='relu')(out)\n",
    "    out = tf.concat([out1, out], axis=3)\n",
    "    \n",
    "    out = tf.keras.layers.Conv2D(64, (3,3), padding='same', activation='relu')(out)\n",
    "    out = tf.keras.layers.Conv2D(64, (3,3), padding='same', activation='relu')(out)\n",
    "    out = tf.keras.layers.Conv2D(1, (3,3), padding='same', activation='sigmoid')(out)\n",
    "    \n",
    "    return tf.keras.Model(inputs=x, outputs=out)"
   ]
  },
  {
   "cell_type": "code",
   "execution_count": 51,
   "metadata": {},
   "outputs": [],
   "source": [
    "try:\n",
    "    del model\n",
    "    K.clear_session()\n",
    "except:\n",
    "    pass\n",
    "model = build_model()"
   ]
  },
  {
   "cell_type": "code",
   "execution_count": 52,
   "metadata": {},
   "outputs": [
    {
     "name": "stdout",
     "output_type": "stream",
     "text": [
      "Failed to import pydot. You must install pydot and graphviz for `pydotprint` to work.\n"
     ]
    }
   ],
   "source": [
    "tf.keras.utils.plot_model(model)"
   ]
  },
  {
   "cell_type": "code",
   "execution_count": 53,
   "metadata": {},
   "outputs": [],
   "source": [
    "loss = tf.keras.losses.BinaryCrossentropy()\n",
    "model.compile(optimizer=\"adam\", loss=loss)"
   ]
  },
  {
   "cell_type": "code",
   "execution_count": 54,
   "metadata": {},
   "outputs": [
    {
     "name": "stdout",
     "output_type": "stream",
     "text": [
      "WARNING:tensorflow:`period` argument is deprecated. Please use `save_freq` to specify the frequency in number of samples seen.\n"
     ]
    }
   ],
   "source": [
    "checkpoint = ModelCheckpoint('dz_04_semanticheskaya_segmentatsiya.hdf5',\n",
    "                            monitor=\"val_loss\",\n",
    "                            save_best_only=True,\n",
    "                            period=1,\n",
    "                            verbose=1)\n",
    "early_stopping_callback = EarlyStopping(monitor=\"val_loss\", \n",
    "                                        min_delta=1e-6, \n",
    "                                        patience=50, \n",
    "                                        verbose=1, \n",
    "                                        mode='auto', \n",
    "                                        baseline=None, \n",
    "                                        restore_best_weights=True)\n",
    "learning_rate_reduction = ReduceLROnPlateau(monitor=\"val_loss\",\n",
    "                                           patience=5,\n",
    "                                           verbose=1,\n",
    "                                           factor=0.5,\n",
    "                                           min_lr=0.00000001)"
   ]
  },
  {
   "cell_type": "code",
   "execution_count": null,
   "metadata": {},
   "outputs": [
    {
     "name": "stdout",
     "output_type": "stream",
     "text": [
      "Train for 2003 steps, validate for 10 steps\n",
      "Epoch 1/10\n",
      "1017/2003 [==============>...............] - ETA: 11:02 - loss: 0.4612"
     ]
    }
   ],
   "source": [
    "%%time\n",
    "history = model.fit(train_ds, \n",
    "                 epochs=EPOCHS,\n",
    "                 steps_per_epoch=len(COCO_dataset_train.img_list)//BATCH_SIZE, \n",
    "                 validation_data=val_ds, \n",
    "                 validation_steps=10,\n",
    "                   callbacks=[checkpoint, learning_rate_reduction, early_stopping_callback])"
   ]
  },
  {
   "cell_type": "code",
   "execution_count": null,
   "metadata": {},
   "outputs": [],
   "source": [
    "plt.figure()\n",
    "plt.plot(history.history['loss'], label='train loss')\n",
    "plt.plot(history.history['val_loss'], label='validation loss')\n",
    "plt.xlabel('Эпоха обучения')\n",
    "plt.ylabel('Значение функции потерь')\n",
    "plt.legend()\n",
    "plt.savefig(\"mygraph.png\")"
   ]
  },
  {
   "cell_type": "code",
   "execution_count": 20,
   "metadata": {},
   "outputs": [],
   "source": []
  },
  {
   "cell_type": "code",
   "execution_count": null,
   "metadata": {},
   "outputs": [],
   "source": []
  }
 ],
 "metadata": {
  "kernelspec": {
   "display_name": "Python 3",
   "language": "python",
   "name": "python3"
  },
  "language_info": {
   "codemirror_mode": {
    "name": "ipython",
    "version": 3
   },
   "file_extension": ".py",
   "mimetype": "text/x-python",
   "name": "python",
   "nbconvert_exporter": "python",
   "pygments_lexer": "ipython3",
   "version": "3.7.7"
  }
 },
 "nbformat": 4,
 "nbformat_minor": 4
}
